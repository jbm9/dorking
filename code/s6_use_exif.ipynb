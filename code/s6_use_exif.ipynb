{
 "cells": [
  {
   "cell_type": "code",
   "execution_count": 1,
   "metadata": {
    "collapsed": false
   },
   "outputs": [
    {
     "name": "stdout",
     "output_type": "stream",
     "text": [
      "Populating the interactive namespace from numpy and matplotlib\n"
     ]
    }
   ],
   "source": [
    "%pylab inline"
   ]
  },
  {
   "cell_type": "code",
   "execution_count": 2,
   "metadata": {
    "collapsed": true
   },
   "outputs": [],
   "source": [
    "import exifread"
   ]
  },
  {
   "cell_type": "code",
   "execution_count": 43,
   "metadata": {
    "collapsed": true
   },
   "outputs": [],
   "source": [
    "import os.path"
   ]
  },
  {
   "cell_type": "code",
   "execution_count": 3,
   "metadata": {
    "collapsed": false
   },
   "outputs": [
    {
     "data": {
      "text/plain": [
       "161"
      ]
     },
     "execution_count": 3,
     "metadata": {},
     "output_type": "execute_result"
    }
   ],
   "source": [
    "f = file(\"/home/jbm/Desktop/20170517_jupiter_pics2/IMG_0655.CR2\")\n",
    "tags = exifread.process_file(f)\n",
    "f.close()\n",
    "len(tags)"
   ]
  },
  {
   "cell_type": "code",
   "execution_count": 6,
   "metadata": {
    "collapsed": false
   },
   "outputs": [
    {
     "data": {
      "text/plain": [
       "['EXIF DateTimeOriginal', 'Image DateTime', 'EXIF DateTimeDigitized']"
      ]
     },
     "execution_count": 6,
     "metadata": {},
     "output_type": "execute_result"
    }
   ],
   "source": [
    "[ k for k in tags.keys() if -1 != k.find(\"ate\") ]"
   ]
  },
  {
   "cell_type": "code",
   "execution_count": 8,
   "metadata": {
    "collapsed": false
   },
   "outputs": [],
   "source": [
    "x = tags['EXIF DateTimeOriginal']"
   ]
  },
  {
   "cell_type": "code",
   "execution_count": 11,
   "metadata": {
    "collapsed": false
   },
   "outputs": [
    {
     "data": {
      "text/plain": [
       "u'2017:05:17 23:35:31'"
      ]
     },
     "execution_count": 11,
     "metadata": {},
     "output_type": "execute_result"
    }
   ],
   "source": [
    "x.values"
   ]
  },
  {
   "cell_type": "code",
   "execution_count": 12,
   "metadata": {
    "collapsed": false
   },
   "outputs": [
    {
     "data": {
      "text/plain": [
       "['EXIF FocalPlaneResolutionUnit',\n",
       " 'MakerNote FocalUnitsPerMM',\n",
       " 'MakerNote FocalLength',\n",
       " 'EXIF FocalLength',\n",
       " 'MakerNote FocalType',\n",
       " 'EXIF FocalPlaneYResolution',\n",
       " 'EXIF FocalPlaneXResolution',\n",
       " 'MakerNote LongFocalLengthOfLensInFocalUnits',\n",
       " 'MakerNote ShortFocalLengthOfLensInFocalUnits']"
      ]
     },
     "execution_count": 12,
     "metadata": {},
     "output_type": "execute_result"
    }
   ],
   "source": [
    "[ k for k in tags.keys() if -1 != k.find(\"ocal\") ]"
   ]
  },
  {
   "cell_type": "code",
   "execution_count": 15,
   "metadata": {
    "collapsed": false
   },
   "outputs": [
    {
     "data": {
      "text/plain": [
       "300"
      ]
     },
     "execution_count": 15,
     "metadata": {},
     "output_type": "execute_result"
    }
   ],
   "source": [
    "tags['EXIF FocalLength'].values[0]"
   ]
  },
  {
   "cell_type": "code",
   "execution_count": 17,
   "metadata": {
    "collapsed": false
   },
   "outputs": [
    {
     "data": {
      "text/plain": [
       "['MakerNote ExposureMode',\n",
       " 'EXIF ExposureBiasValue',\n",
       " 'EXIF ExposureTime',\n",
       " 'EXIF ExposureMode',\n",
       " 'MakerNote FlashExposureLock',\n",
       " 'EXIF ExposureProgram',\n",
       " 'MakerNote LongExposureNoiseReduction2']"
      ]
     },
     "execution_count": 17,
     "metadata": {},
     "output_type": "execute_result"
    }
   ],
   "source": [
    "[ k for k in tags.keys() if -1 != k.find(\"xpo\") ]"
   ]
  },
  {
   "cell_type": "code",
   "execution_count": 20,
   "metadata": {
    "collapsed": false
   },
   "outputs": [
    {
     "data": {
      "text/plain": [
       "1/40"
      ]
     },
     "execution_count": 20,
     "metadata": {},
     "output_type": "execute_result"
    }
   ],
   "source": [
    "tags['EXIF ExposureTime'].values[0]"
   ]
  },
  {
   "cell_type": "code",
   "execution_count": 21,
   "metadata": {
    "collapsed": false
   },
   "outputs": [
    {
     "data": {
      "text/plain": [
       "['EXIF ApertureValue']"
      ]
     },
     "execution_count": 21,
     "metadata": {},
     "output_type": "execute_result"
    }
   ],
   "source": [
    "[ k for k in tags.keys() if -1 != k.find(\"pertu\") ]"
   ]
  },
  {
   "cell_type": "code",
   "execution_count": 25,
   "metadata": {
    "collapsed": false
   },
   "outputs": [
    {
     "data": {
      "text/plain": [
       "43/8"
      ]
     },
     "execution_count": 25,
     "metadata": {},
     "output_type": "execute_result"
    }
   ],
   "source": [
    "tags['EXIF ApertureValue'].values[0]"
   ]
  },
  {
   "cell_type": "code",
   "execution_count": 29,
   "metadata": {
    "collapsed": false
   },
   "outputs": [
    {
     "data": {
      "text/plain": [
       "3200"
      ]
     },
     "execution_count": 29,
     "metadata": {},
     "output_type": "execute_result"
    }
   ],
   "source": [
    "tags['EXIF ISOSpeedRatings'].values[0]"
   ]
  },
  {
   "cell_type": "code",
   "execution_count": 28,
   "metadata": {
    "collapsed": false
   },
   "outputs": [
    {
     "data": {
      "text/plain": [
       "['MakerNote ISO', 'EXIF ISOSpeedRatings']"
      ]
     },
     "execution_count": 28,
     "metadata": {},
     "output_type": "execute_result"
    }
   ],
   "source": [
    "[ k for k in tags.keys() if -1 != k.find(\"ISO\") ]"
   ]
  },
  {
   "cell_type": "code",
   "execution_count": 44,
   "metadata": {
    "collapsed": true
   },
   "outputs": [],
   "source": [
    "def get_image_params(path):\n",
    "    retval = {\"path\": path, \"filename\": os.path.basename(path)}\n",
    "    \n",
    "    f = file(path)\n",
    "    tags = exifread.process_file(f)\n",
    "    f.close()\n",
    "    \n",
    "    fields = {  # EXIF name => not-awful name\n",
    "        'EXIF ISOSpeedRatings': 'ISO',\n",
    "        'EXIF ApertureValue': 'aperture',\n",
    "        'EXIF ExposureTime': 'exposure',\n",
    "        'EXIF FocalLength': 'focal_length',\n",
    "        'EXIF DateTimeOriginal': 'dt'\n",
    "    }\n",
    "    \n",
    "    for k_e,k_human in fields.iteritems():\n",
    "        v = tags[k_e].values\n",
    "        if v.__class__ == list:\n",
    "            v = v[0]\n",
    "        retval[k_human] = v\n",
    "        \n",
    "    return retval"
   ]
  },
  {
   "cell_type": "code",
   "execution_count": 45,
   "metadata": {
    "collapsed": false
   },
   "outputs": [
    {
     "data": {
      "text/plain": [
       "{'ISO': 3200,\n",
       " 'aperture': 43/8,\n",
       " 'dt': u'2017:05:17 23:35:31',\n",
       " 'exposure': 1/40,\n",
       " 'filename': 'IMG_0655.CR2',\n",
       " 'focal_length': 300,\n",
       " 'path': '/home/jbm/Desktop/20170517_jupiter_pics2/IMG_0655.CR2'}"
      ]
     },
     "execution_count": 45,
     "metadata": {},
     "output_type": "execute_result"
    }
   ],
   "source": [
    "get_image_params(\"/home/jbm/Desktop/20170517_jupiter_pics2/IMG_0655.CR2\")"
   ]
  },
  {
   "cell_type": "code",
   "execution_count": 36,
   "metadata": {
    "collapsed": true
   },
   "outputs": [],
   "source": [
    "import glob"
   ]
  },
  {
   "cell_type": "code",
   "execution_count": 46,
   "metadata": {
    "collapsed": false,
    "scrolled": false
   },
   "outputs": [
    {
     "name": "stdout",
     "output_type": "stream",
     "text": [
      "IMG_0666.CR2: 1/40s f-43/8 at 300mm, ISO 3200: 2017:05:17 23:35:46\n",
      "IMG_0740.CR2: 1/60s f-5 at 300mm, ISO 3200: 2017:05:17 23:39:56\n",
      "IMG_0695.CR2: 1/50s f-5 at 300mm, ISO 3200: 2017:05:17 23:37:24\n",
      "IMG_0792.CR2: 1/60s f-6 at 300mm, ISO 3200: 2017:05:17 23:43:24\n",
      "IMG_0665.CR2: 1/40s f-43/8 at 300mm, ISO 3200: 2017:05:17 23:35:46\n",
      "IMG_0752.CR2: 1/60s f-5 at 300mm, ISO 3200: 2017:05:17 23:40:15\n",
      "IMG_0791.CR2: 1/60s f-6 at 300mm, ISO 3200: 2017:05:17 23:43:24\n",
      "IMG_0743.CR2: 1/60s f-5 at 300mm, ISO 3200: 2017:05:17 23:40:02\n",
      "IMG_0699.CR2: 1/50s f-5 at 300mm, ISO 3200: 2017:05:17 23:38:21\n",
      "IMG_0777.CR2: 1/60s f-6 at 300mm, ISO 3200: 2017:05:17 23:41:14\n",
      "IMG_0662.CR2: 1/40s f-43/8 at 300mm, ISO 3200: 2017:05:17 23:35:40\n",
      "IMG_0776.CR2: 1/60s f-6 at 300mm, ISO 3200: 2017:05:17 23:41:13\n",
      "IMG_0683.CR2: 1/50s f-5 at 300mm, ISO 3200: 2017:05:17 23:37:02\n",
      "IMG_0722.CR2: 1/60s f-5 at 300mm, ISO 3200: 2017:05:17 23:39:23\n",
      "IMG_0788.CR2: 1/60s f-6 at 300mm, ISO 3200: 2017:05:17 23:43:17\n",
      "IMG_0770.CR2: 1/60s f-6 at 300mm, ISO 3200: 2017:05:17 23:41:01\n",
      "IMG_0773.CR2: 1/60s f-6 at 300mm, ISO 3200: 2017:05:17 23:41:07\n",
      "IMG_0703.CR2: 1/60s f-5 at 300mm, ISO 3200: 2017:05:17 23:38:44\n",
      "IMG_0689.CR2: 1/50s f-5 at 300mm, ISO 3200: 2017:05:17 23:37:16\n",
      "IMG_0775.CR2: 1/60s f-6 at 300mm, ISO 3200: 2017:05:17 23:41:08\n",
      "IMG_0771.CR2: 1/60s f-6 at 300mm, ISO 3200: 2017:05:17 23:41:01\n",
      "IMG_0753.CR2: 1/60s f-5 at 300mm, ISO 3200: 2017:05:17 23:40:18\n",
      "IMG_0787.CR2: 1/60s f-6 at 300mm, ISO 3200: 2017:05:17 23:43:16\n",
      "IMG_0676.CR2: 1/50s f-5 at 300mm, ISO 3200: 2017:05:17 23:36:53\n",
      "IMG_0677.CR2: 1/50s f-5 at 300mm, ISO 3200: 2017:05:17 23:36:55\n",
      "IMG_0800.CR2: 1/60s f-6 at 300mm, ISO 3200: 2017:05:17 23:43:39\n",
      "IMG_0762.CR2: 1/60s f-6 at 300mm, ISO 3200: 2017:05:17 23:40:47\n",
      "IMG_0778.CR2: 1/60s f-6 at 300mm, ISO 3200: 2017:05:17 23:41:14\n",
      "IMG_0691.CR2: 1/50s f-5 at 300mm, ISO 3200: 2017:05:17 23:37:16\n",
      "IMG_0779.CR2: 1/60s f-6 at 300mm, ISO 3200: 2017:05:17 23:41:18\n",
      "IMG_0772.CR2: 1/60s f-6 at 300mm, ISO 3200: 2017:05:17 23:41:02\n",
      "IMG_0742.CR2: 1/60s f-5 at 300mm, ISO 3200: 2017:05:17 23:39:56\n",
      "IMG_0786.CR2: 1/60s f-6 at 300mm, ISO 3200: 2017:05:17 23:43:16\n",
      "IMG_0783.CR2: 1/60s f-6 at 300mm, ISO 3200: 2017:05:17 23:43:13\n",
      "IMG_0700.CR2: 1/50s f-5 at 300mm, ISO 3200: 2017:05:17 23:38:23\n",
      "IMG_0790.CR2: 1/60s f-6 at 300mm, ISO 3200: 2017:05:17 23:43:24\n",
      "IMG_0754.CR2: 1/60s f-6 at 300mm, ISO 3200: 2017:05:17 23:40:36\n",
      "IMG_0707.CR2: 1/60s f-5 at 300mm, ISO 3200: 2017:05:17 23:38:48\n",
      "IMG_0693.CR2: 1/50s f-5 at 300mm, ISO 3200: 2017:05:17 23:37:23\n",
      "IMG_0712.CR2: 1/60s f-5 at 300mm, ISO 3200: 2017:05:17 23:39:06\n",
      "IMG_0718.CR2: 1/60s f-5 at 300mm, ISO 3200: 2017:05:17 23:39:15\n",
      "IMG_0784.CR2: 1/60s f-6 at 300mm, ISO 3200: 2017:05:17 23:43:13\n",
      "IMG_0682.CR2: 1/50s f-5 at 300mm, ISO 3200: 2017:05:17 23:37:01\n",
      "IMG_0659.CR2: 1/40s f-43/8 at 300mm, ISO 3200: 2017:05:17 23:35:39\n",
      "IMG_0735.CR2: 1/60s f-5 at 300mm, ISO 3200: 2017:05:17 23:39:44\n",
      "IMG_0686.CR2: 1/50s f-5 at 300mm, ISO 3200: 2017:05:17 23:37:08\n",
      "IMG_0694.CR2: 1/50s f-5 at 300mm, ISO 3200: 2017:05:17 23:37:24\n",
      "IMG_0725.CR2: 1/60s f-5 at 300mm, ISO 3200: 2017:05:17 23:39:24\n",
      "IMG_0727.CR2: 1/60s f-5 at 300mm, ISO 3200: 2017:05:17 23:39:30\n",
      "IMG_0701.CR2: 1/50s f-5 at 300mm, ISO 3200: 2017:05:17 23:38:24\n",
      "IMG_0739.CR2: 1/60s f-5 at 300mm, ISO 3200: 2017:05:17 23:39:50\n",
      "IMG_0685.CR2: 1/50s f-5 at 300mm, ISO 3200: 2017:05:17 23:37:08\n",
      "IMG_0789.CR2: 1/60s f-6 at 300mm, ISO 3200: 2017:05:17 23:43:23\n",
      "IMG_0673.CR2: 1/40s f-43/8 at 300mm, ISO 3200: 2017:05:17 23:36:12\n",
      "IMG_0690.CR2: 1/50s f-5 at 300mm, ISO 3200: 2017:05:17 23:37:16\n",
      "IMG_0709.CR2: 1/60s f-5 at 300mm, ISO 3200: 2017:05:17 23:38:49\n",
      "IMG_0750.CR2: 1/60s f-5 at 300mm, ISO 3200: 2017:05:17 23:40:12\n",
      "IMG_0760.CR2: 1/60s f-6 at 300mm, ISO 3200: 2017:05:17 23:40:47\n",
      "IMG_0661.CR2: 1/40s f-43/8 at 300mm, ISO 3200: 2017:05:17 23:35:39\n",
      "IMG_0782.CR2: 1/60s f-6 at 300mm, ISO 3200: 2017:05:17 23:43:12\n",
      "IMG_0724.CR2: 1/60s f-5 at 300mm, ISO 3200: 2017:05:17 23:39:23\n",
      "IMG_0759.CR2: 1/60s f-6 at 300mm, ISO 3200: 2017:05:17 23:40:46\n",
      "IMG_0798.CR2: 1/60s f-6 at 300mm, ISO 3200: 2017:05:17 23:43:39\n",
      "IMG_0730.CR2: 1/60s f-5 at 300mm, ISO 3200: 2017:05:17 23:39:37\n",
      "IMG_0780.CR2: 1/60s f-6 at 300mm, ISO 3200: 2017:05:17 23:41:18\n",
      "IMG_0726.CR2: 1/60s f-5 at 300mm, ISO 3200: 2017:05:17 23:39:30\n",
      "IMG_0656.CR2: 1/40s f-43/8 at 300mm, ISO 3200: 2017:05:17 23:35:31\n",
      "IMG_0668.CR2: 1/40s f-43/8 at 300mm, ISO 3200: 2017:05:17 23:35:53\n",
      "IMG_0761.CR2: 1/60s f-6 at 300mm, ISO 3200: 2017:05:17 23:40:47\n",
      "IMG_0719.CR2: 1/60s f-5 at 300mm, ISO 3200: 2017:05:17 23:39:16\n",
      "IMG_0704.CR2: 1/60s f-5 at 300mm, ISO 3200: 2017:05:17 23:38:44\n",
      "IMG_0679.CR2: 1/50s f-5 at 300mm, ISO 3200: 2017:05:17 23:36:56\n",
      "IMG_0746.CR2: 1/60s f-5 at 300mm, ISO 3200: 2017:05:17 23:40:07\n",
      "IMG_0744.CR2: 1/60s f-5 at 300mm, ISO 3200: 2017:05:17 23:40:02\n",
      "IMG_0657.CR2: 1/40s f-43/8 at 300mm, ISO 3200: 2017:05:17 23:35:32\n",
      "IMG_0705.CR2: 1/60s f-5 at 300mm, ISO 3200: 2017:05:17 23:38:45\n",
      "IMG_0758.CR2: 1/60s f-6 at 300mm, ISO 3200: 2017:05:17 23:40:38\n",
      "IMG_0741.CR2: 1/60s f-5 at 300mm, ISO 3200: 2017:05:17 23:39:56\n",
      "IMG_0723.CR2: 1/60s f-5 at 300mm, ISO 3200: 2017:05:17 23:39:23\n",
      "IMG_0670.CR2: 1/40s f-43/8 at 300mm, ISO 3200: 2017:05:17 23:35:54\n",
      "IMG_0738.CR2: 1/60s f-5 at 300mm, ISO 3200: 2017:05:17 23:39:50\n",
      "IMG_0697.CR2: 1/50s f-5 at 300mm, ISO 3200: 2017:05:17 23:37:31\n",
      "IMG_0667.CR2: 1/40s f-43/8 at 300mm, ISO 3200: 2017:05:17 23:35:53\n",
      "IMG_0797.CR2: 1/60s f-6 at 300mm, ISO 3200: 2017:05:17 23:43:38\n",
      "IMG_0795.CR2: 1/60s f-6 at 300mm, ISO 3200: 2017:05:17 23:43:31\n",
      "IMG_0692.CR2: 1/50s f-5 at 300mm, ISO 3200: 2017:05:17 23:37:17\n",
      "IMG_0794.CR2: 1/60s f-6 at 300mm, ISO 3200: 2017:05:17 23:43:31\n",
      "IMG_0748.CR2: 1/60s f-5 at 300mm, ISO 3200: 2017:05:17 23:40:07\n",
      "IMG_0706.CR2: 1/60s f-5 at 300mm, ISO 3200: 2017:05:17 23:38:48\n",
      "IMG_0774.CR2: 1/60s f-6 at 300mm, ISO 3200: 2017:05:17 23:41:08\n",
      "IMG_0766.CR2: 1/60s f-6 at 300mm, ISO 3200: 2017:05:17 23:40:53\n",
      "IMG_0734.CR2: 1/60s f-5 at 300mm, ISO 3200: 2017:05:17 23:39:44\n",
      "IMG_0660.CR2: 1/40s f-43/8 at 300mm, ISO 3200: 2017:05:17 23:35:39\n",
      "IMG_0764.CR2: 1/60s f-6 at 300mm, ISO 3200: 2017:05:17 23:40:53\n",
      "IMG_0796.CR2: 1/60s f-6 at 300mm, ISO 3200: 2017:05:17 23:43:32\n",
      "IMG_0733.CR2: 1/60s f-5 at 300mm, ISO 3200: 2017:05:17 23:39:43\n",
      "IMG_0708.CR2: 1/60s f-5 at 300mm, ISO 3200: 2017:05:17 23:38:49\n",
      "IMG_0751.CR2: 1/60s f-5 at 300mm, ISO 3200: 2017:05:17 23:40:15\n",
      "IMG_0728.CR2: 1/60s f-5 at 300mm, ISO 3200: 2017:05:17 23:39:31\n",
      "IMG_0698.CR2: 1/50s f-5 at 300mm, ISO 3200: 2017:05:17 23:38:21\n",
      "IMG_0711.CR2: 1/60s f-5 at 300mm, ISO 3200: 2017:05:17 23:39:06\n",
      "IMG_0756.CR2: 1/60s f-6 at 300mm, ISO 3200: 2017:05:17 23:40:37\n",
      "IMG_0696.CR2: 1/50s f-5 at 300mm, ISO 3200: 2017:05:17 23:37:24\n",
      "IMG_0687.CR2: 1/50s f-5 at 300mm, ISO 3200: 2017:05:17 23:37:09\n",
      "IMG_0658.CR2: 1/40s f-43/8 at 300mm, ISO 3200: 2017:05:17 23:35:32\n",
      "IMG_0714.CR2: 1/60s f-5 at 300mm, ISO 3200: 2017:05:17 23:39:07\n",
      "IMG_0745.CR2: 1/60s f-5 at 300mm, ISO 3200: 2017:05:17 23:40:02\n",
      "IMG_0721.CR2: 1/60s f-5 at 300mm, ISO 3200: 2017:05:17 23:39:17\n",
      "IMG_0729.CR2: 1/60s f-5 at 300mm, ISO 3200: 2017:05:17 23:39:37\n",
      "IMG_0793.CR2: 1/60s f-6 at 300mm, ISO 3200: 2017:05:17 23:43:31\n",
      "IMG_0731.CR2: 1/60s f-5 at 300mm, ISO 3200: 2017:05:17 23:39:37\n",
      "IMG_0732.CR2: 1/60s f-5 at 300mm, ISO 3200: 2017:05:17 23:39:38\n",
      "IMG_0664.CR2: 1/40s f-43/8 at 300mm, ISO 3200: 2017:05:17 23:35:45\n",
      "IMG_0755.CR2: 1/60s f-6 at 300mm, ISO 3200: 2017:05:17 23:40:37\n",
      "IMG_0655.CR2: 1/40s f-43/8 at 300mm, ISO 3200: 2017:05:17 23:35:31\n",
      "IMG_0663.CR2: 1/40s f-43/8 at 300mm, ISO 3200: 2017:05:17 23:35:45\n",
      "IMG_0674.CR2: 1/50s f-5 at 300mm, ISO 3200: 2017:05:17 23:36:51\n",
      "IMG_0702.CR2: 1/60s f-5 at 300mm, ISO 3200: 2017:05:17 23:38:44\n",
      "IMG_0720.CR2: 1/60s f-5 at 300mm, ISO 3200: 2017:05:17 23:39:16\n",
      "IMG_0763.CR2: 1/60s f-6 at 300mm, ISO 3200: 2017:05:17 23:40:48\n",
      "IMG_0681.CR2: 1/50s f-5 at 300mm, ISO 3200: 2017:05:17 23:37:01\n",
      "IMG_0688.CR2: 1/50s f-5 at 300mm, ISO 3200: 2017:05:17 23:37:09\n",
      "IMG_0716.CR2: 1/60s f-5 at 300mm, ISO 3200: 2017:05:17 23:39:08\n",
      "IMG_0799.CR2: 1/60s f-6 at 300mm, ISO 3200: 2017:05:17 23:43:39\n",
      "IMG_0680.CR2: 1/50s f-5 at 300mm, ISO 3200: 2017:05:17 23:36:56\n",
      "IMG_0767.CR2: 1/60s f-6 at 300mm, ISO 3200: 2017:05:17 23:40:54\n",
      "IMG_0717.CR2: 1/60s f-5 at 300mm, ISO 3200: 2017:05:17 23:39:15\n",
      "IMG_0669.CR2: 1/40s f-43/8 at 300mm, ISO 3200: 2017:05:17 23:35:53\n",
      "IMG_0713.CR2: 1/60s f-5 at 300mm, ISO 3200: 2017:05:17 23:39:06\n",
      "IMG_0768.CR2: 1/60s f-6 at 300mm, ISO 3200: 2017:05:17 23:41:00\n",
      "IMG_0671.CR2: 1/40s f-43/8 at 300mm, ISO 3200: 2017:05:17 23:36:01\n",
      "IMG_0737.CR2: 1/60s f-5 at 300mm, ISO 3200: 2017:05:17 23:39:50\n",
      "IMG_0757.CR2: 1/60s f-6 at 300mm, ISO 3200: 2017:05:17 23:40:37\n",
      "IMG_0672.CR2: 1/40s f-43/8 at 300mm, ISO 3200: 2017:05:17 23:36:07\n",
      "IMG_0785.CR2: 1/60s f-6 at 300mm, ISO 3200: 2017:05:17 23:43:16\n",
      "IMG_0765.CR2: 1/60s f-6 at 300mm, ISO 3200: 2017:05:17 23:40:53\n",
      "IMG_0684.CR2: 1/50s f-5 at 300mm, ISO 3200: 2017:05:17 23:37:02\n",
      "IMG_0736.CR2: 1/60s f-5 at 300mm, ISO 3200: 2017:05:17 23:39:44\n",
      "IMG_0747.CR2: 1/60s f-5 at 300mm, ISO 3200: 2017:05:17 23:40:07\n",
      "IMG_0749.CR2: 1/60s f-5 at 300mm, ISO 3200: 2017:05:17 23:40:11\n",
      "IMG_0675.CR2: 1/50s f-5 at 300mm, ISO 3200: 2017:05:17 23:36:53\n",
      "IMG_0715.CR2: 1/60s f-5 at 300mm, ISO 3200: 2017:05:17 23:39:07\n",
      "IMG_0781.CR2: 1/60s f-6 at 300mm, ISO 3200: 2017:05:17 23:43:12\n",
      "IMG_0769.CR2: 1/60s f-6 at 300mm, ISO 3200: 2017:05:17 23:41:00\n",
      "IMG_0678.CR2: 1/50s f-5 at 300mm, ISO 3200: 2017:05:17 23:36:55\n",
      "IMG_0710.CR2: 1/60s f-5 at 300mm, ISO 3200: 2017:05:17 23:38:58\n"
     ]
    }
   ],
   "source": [
    "for p in glob.glob(\"/home/jbm/Desktop/20170517_jupiter_pics2/*.CR2\"):\n",
    "    x = get_image_params(p)\n",
    "    print \"%(filename)s: %(exposure)ss f-%(aperture)s at %(focal_length)smm, ISO %(ISO)s: %(dt)s\" % x"
   ]
  },
  {
   "cell_type": "code",
   "execution_count": 47,
   "metadata": {
    "collapsed": true
   },
   "outputs": [],
   "source": [
    "from collections import defaultdict"
   ]
  },
  {
   "cell_type": "code",
   "execution_count": 58,
   "metadata": {
    "collapsed": true
   },
   "outputs": [],
   "source": [
    "def bucket_dir(dir_path):\n",
    "    buckets = defaultdict(list) # bucket key => [ path ]\n",
    "    \n",
    "    bucket_keys = [\"exposure\", \"aperture\", \"focal_length\", \"ISO\"]\n",
    "    \n",
    "    for p in sorted(glob.glob(\"%s/*.CR2\" % dir_path)):\n",
    "        x = get_image_params(p)\n",
    "        # print \"%(filename)s: %(exposure)ss f-%(aperture)s at %(focal_length)smm, ISO %(ISO)s: %(dt)s\" % x\n",
    "    \n",
    "        bk_l = [ (k, str(x[k])) for k in bucket_keys ]\n",
    "        bk = tuple(bk_l)\n",
    "        buckets[bk].append(p)\n",
    "    \n",
    "    return buckets\n",
    "    "
   ]
  },
  {
   "cell_type": "code",
   "execution_count": 57,
   "metadata": {
    "collapsed": false
   },
   "outputs": [
    {
     "data": {
      "text/plain": [
       "defaultdict(list,\n",
       "            {(('exposure', '1/40'),\n",
       "              ('aperture', '43/8'),\n",
       "              ('focal_length', '300'),\n",
       "              ('ISO',\n",
       "               '3200')): ['/home/jbm/Desktop/20170517_jupiter_pics2/IMG_0666.CR2',\n",
       "              '/home/jbm/Desktop/20170517_jupiter_pics2/IMG_0665.CR2',\n",
       "              '/home/jbm/Desktop/20170517_jupiter_pics2/IMG_0662.CR2',\n",
       "              '/home/jbm/Desktop/20170517_jupiter_pics2/IMG_0659.CR2',\n",
       "              '/home/jbm/Desktop/20170517_jupiter_pics2/IMG_0673.CR2',\n",
       "              '/home/jbm/Desktop/20170517_jupiter_pics2/IMG_0661.CR2',\n",
       "              '/home/jbm/Desktop/20170517_jupiter_pics2/IMG_0656.CR2',\n",
       "              '/home/jbm/Desktop/20170517_jupiter_pics2/IMG_0668.CR2',\n",
       "              '/home/jbm/Desktop/20170517_jupiter_pics2/IMG_0657.CR2',\n",
       "              '/home/jbm/Desktop/20170517_jupiter_pics2/IMG_0670.CR2',\n",
       "              '/home/jbm/Desktop/20170517_jupiter_pics2/IMG_0667.CR2',\n",
       "              '/home/jbm/Desktop/20170517_jupiter_pics2/IMG_0660.CR2',\n",
       "              '/home/jbm/Desktop/20170517_jupiter_pics2/IMG_0658.CR2',\n",
       "              '/home/jbm/Desktop/20170517_jupiter_pics2/IMG_0664.CR2',\n",
       "              '/home/jbm/Desktop/20170517_jupiter_pics2/IMG_0655.CR2',\n",
       "              '/home/jbm/Desktop/20170517_jupiter_pics2/IMG_0663.CR2',\n",
       "              '/home/jbm/Desktop/20170517_jupiter_pics2/IMG_0669.CR2',\n",
       "              '/home/jbm/Desktop/20170517_jupiter_pics2/IMG_0671.CR2',\n",
       "              '/home/jbm/Desktop/20170517_jupiter_pics2/IMG_0672.CR2'],\n",
       "             (('exposure', '1/50'),\n",
       "              ('aperture', '5'),\n",
       "              ('focal_length', '300'),\n",
       "              ('ISO',\n",
       "               '3200')): ['/home/jbm/Desktop/20170517_jupiter_pics2/IMG_0695.CR2',\n",
       "              '/home/jbm/Desktop/20170517_jupiter_pics2/IMG_0699.CR2',\n",
       "              '/home/jbm/Desktop/20170517_jupiter_pics2/IMG_0683.CR2',\n",
       "              '/home/jbm/Desktop/20170517_jupiter_pics2/IMG_0689.CR2',\n",
       "              '/home/jbm/Desktop/20170517_jupiter_pics2/IMG_0676.CR2',\n",
       "              '/home/jbm/Desktop/20170517_jupiter_pics2/IMG_0677.CR2',\n",
       "              '/home/jbm/Desktop/20170517_jupiter_pics2/IMG_0691.CR2',\n",
       "              '/home/jbm/Desktop/20170517_jupiter_pics2/IMG_0700.CR2',\n",
       "              '/home/jbm/Desktop/20170517_jupiter_pics2/IMG_0693.CR2',\n",
       "              '/home/jbm/Desktop/20170517_jupiter_pics2/IMG_0682.CR2',\n",
       "              '/home/jbm/Desktop/20170517_jupiter_pics2/IMG_0686.CR2',\n",
       "              '/home/jbm/Desktop/20170517_jupiter_pics2/IMG_0694.CR2',\n",
       "              '/home/jbm/Desktop/20170517_jupiter_pics2/IMG_0701.CR2',\n",
       "              '/home/jbm/Desktop/20170517_jupiter_pics2/IMG_0685.CR2',\n",
       "              '/home/jbm/Desktop/20170517_jupiter_pics2/IMG_0690.CR2',\n",
       "              '/home/jbm/Desktop/20170517_jupiter_pics2/IMG_0679.CR2',\n",
       "              '/home/jbm/Desktop/20170517_jupiter_pics2/IMG_0697.CR2',\n",
       "              '/home/jbm/Desktop/20170517_jupiter_pics2/IMG_0692.CR2',\n",
       "              '/home/jbm/Desktop/20170517_jupiter_pics2/IMG_0698.CR2',\n",
       "              '/home/jbm/Desktop/20170517_jupiter_pics2/IMG_0696.CR2',\n",
       "              '/home/jbm/Desktop/20170517_jupiter_pics2/IMG_0687.CR2',\n",
       "              '/home/jbm/Desktop/20170517_jupiter_pics2/IMG_0674.CR2',\n",
       "              '/home/jbm/Desktop/20170517_jupiter_pics2/IMG_0681.CR2',\n",
       "              '/home/jbm/Desktop/20170517_jupiter_pics2/IMG_0688.CR2',\n",
       "              '/home/jbm/Desktop/20170517_jupiter_pics2/IMG_0680.CR2',\n",
       "              '/home/jbm/Desktop/20170517_jupiter_pics2/IMG_0684.CR2',\n",
       "              '/home/jbm/Desktop/20170517_jupiter_pics2/IMG_0675.CR2',\n",
       "              '/home/jbm/Desktop/20170517_jupiter_pics2/IMG_0678.CR2'],\n",
       "             (('exposure', '1/60'),\n",
       "              ('aperture', '5'),\n",
       "              ('focal_length', '300'),\n",
       "              ('ISO',\n",
       "               '3200')): ['/home/jbm/Desktop/20170517_jupiter_pics2/IMG_0740.CR2',\n",
       "              '/home/jbm/Desktop/20170517_jupiter_pics2/IMG_0752.CR2',\n",
       "              '/home/jbm/Desktop/20170517_jupiter_pics2/IMG_0743.CR2',\n",
       "              '/home/jbm/Desktop/20170517_jupiter_pics2/IMG_0722.CR2',\n",
       "              '/home/jbm/Desktop/20170517_jupiter_pics2/IMG_0703.CR2',\n",
       "              '/home/jbm/Desktop/20170517_jupiter_pics2/IMG_0753.CR2',\n",
       "              '/home/jbm/Desktop/20170517_jupiter_pics2/IMG_0742.CR2',\n",
       "              '/home/jbm/Desktop/20170517_jupiter_pics2/IMG_0707.CR2',\n",
       "              '/home/jbm/Desktop/20170517_jupiter_pics2/IMG_0712.CR2',\n",
       "              '/home/jbm/Desktop/20170517_jupiter_pics2/IMG_0718.CR2',\n",
       "              '/home/jbm/Desktop/20170517_jupiter_pics2/IMG_0735.CR2',\n",
       "              '/home/jbm/Desktop/20170517_jupiter_pics2/IMG_0725.CR2',\n",
       "              '/home/jbm/Desktop/20170517_jupiter_pics2/IMG_0727.CR2',\n",
       "              '/home/jbm/Desktop/20170517_jupiter_pics2/IMG_0739.CR2',\n",
       "              '/home/jbm/Desktop/20170517_jupiter_pics2/IMG_0709.CR2',\n",
       "              '/home/jbm/Desktop/20170517_jupiter_pics2/IMG_0750.CR2',\n",
       "              '/home/jbm/Desktop/20170517_jupiter_pics2/IMG_0724.CR2',\n",
       "              '/home/jbm/Desktop/20170517_jupiter_pics2/IMG_0730.CR2',\n",
       "              '/home/jbm/Desktop/20170517_jupiter_pics2/IMG_0726.CR2',\n",
       "              '/home/jbm/Desktop/20170517_jupiter_pics2/IMG_0719.CR2',\n",
       "              '/home/jbm/Desktop/20170517_jupiter_pics2/IMG_0704.CR2',\n",
       "              '/home/jbm/Desktop/20170517_jupiter_pics2/IMG_0746.CR2',\n",
       "              '/home/jbm/Desktop/20170517_jupiter_pics2/IMG_0744.CR2',\n",
       "              '/home/jbm/Desktop/20170517_jupiter_pics2/IMG_0705.CR2',\n",
       "              '/home/jbm/Desktop/20170517_jupiter_pics2/IMG_0741.CR2',\n",
       "              '/home/jbm/Desktop/20170517_jupiter_pics2/IMG_0723.CR2',\n",
       "              '/home/jbm/Desktop/20170517_jupiter_pics2/IMG_0738.CR2',\n",
       "              '/home/jbm/Desktop/20170517_jupiter_pics2/IMG_0748.CR2',\n",
       "              '/home/jbm/Desktop/20170517_jupiter_pics2/IMG_0706.CR2',\n",
       "              '/home/jbm/Desktop/20170517_jupiter_pics2/IMG_0734.CR2',\n",
       "              '/home/jbm/Desktop/20170517_jupiter_pics2/IMG_0733.CR2',\n",
       "              '/home/jbm/Desktop/20170517_jupiter_pics2/IMG_0708.CR2',\n",
       "              '/home/jbm/Desktop/20170517_jupiter_pics2/IMG_0751.CR2',\n",
       "              '/home/jbm/Desktop/20170517_jupiter_pics2/IMG_0728.CR2',\n",
       "              '/home/jbm/Desktop/20170517_jupiter_pics2/IMG_0711.CR2',\n",
       "              '/home/jbm/Desktop/20170517_jupiter_pics2/IMG_0714.CR2',\n",
       "              '/home/jbm/Desktop/20170517_jupiter_pics2/IMG_0745.CR2',\n",
       "              '/home/jbm/Desktop/20170517_jupiter_pics2/IMG_0721.CR2',\n",
       "              '/home/jbm/Desktop/20170517_jupiter_pics2/IMG_0729.CR2',\n",
       "              '/home/jbm/Desktop/20170517_jupiter_pics2/IMG_0731.CR2',\n",
       "              '/home/jbm/Desktop/20170517_jupiter_pics2/IMG_0732.CR2',\n",
       "              '/home/jbm/Desktop/20170517_jupiter_pics2/IMG_0702.CR2',\n",
       "              '/home/jbm/Desktop/20170517_jupiter_pics2/IMG_0720.CR2',\n",
       "              '/home/jbm/Desktop/20170517_jupiter_pics2/IMG_0716.CR2',\n",
       "              '/home/jbm/Desktop/20170517_jupiter_pics2/IMG_0717.CR2',\n",
       "              '/home/jbm/Desktop/20170517_jupiter_pics2/IMG_0713.CR2',\n",
       "              '/home/jbm/Desktop/20170517_jupiter_pics2/IMG_0737.CR2',\n",
       "              '/home/jbm/Desktop/20170517_jupiter_pics2/IMG_0736.CR2',\n",
       "              '/home/jbm/Desktop/20170517_jupiter_pics2/IMG_0747.CR2',\n",
       "              '/home/jbm/Desktop/20170517_jupiter_pics2/IMG_0749.CR2',\n",
       "              '/home/jbm/Desktop/20170517_jupiter_pics2/IMG_0715.CR2',\n",
       "              '/home/jbm/Desktop/20170517_jupiter_pics2/IMG_0710.CR2'],\n",
       "             (('exposure', '1/60'),\n",
       "              ('aperture', '6'),\n",
       "              ('focal_length', '300'),\n",
       "              ('ISO',\n",
       "               '3200')): ['/home/jbm/Desktop/20170517_jupiter_pics2/IMG_0792.CR2',\n",
       "              '/home/jbm/Desktop/20170517_jupiter_pics2/IMG_0791.CR2',\n",
       "              '/home/jbm/Desktop/20170517_jupiter_pics2/IMG_0777.CR2',\n",
       "              '/home/jbm/Desktop/20170517_jupiter_pics2/IMG_0776.CR2',\n",
       "              '/home/jbm/Desktop/20170517_jupiter_pics2/IMG_0788.CR2',\n",
       "              '/home/jbm/Desktop/20170517_jupiter_pics2/IMG_0770.CR2',\n",
       "              '/home/jbm/Desktop/20170517_jupiter_pics2/IMG_0773.CR2',\n",
       "              '/home/jbm/Desktop/20170517_jupiter_pics2/IMG_0775.CR2',\n",
       "              '/home/jbm/Desktop/20170517_jupiter_pics2/IMG_0771.CR2',\n",
       "              '/home/jbm/Desktop/20170517_jupiter_pics2/IMG_0787.CR2',\n",
       "              '/home/jbm/Desktop/20170517_jupiter_pics2/IMG_0800.CR2',\n",
       "              '/home/jbm/Desktop/20170517_jupiter_pics2/IMG_0762.CR2',\n",
       "              '/home/jbm/Desktop/20170517_jupiter_pics2/IMG_0778.CR2',\n",
       "              '/home/jbm/Desktop/20170517_jupiter_pics2/IMG_0779.CR2',\n",
       "              '/home/jbm/Desktop/20170517_jupiter_pics2/IMG_0772.CR2',\n",
       "              '/home/jbm/Desktop/20170517_jupiter_pics2/IMG_0786.CR2',\n",
       "              '/home/jbm/Desktop/20170517_jupiter_pics2/IMG_0783.CR2',\n",
       "              '/home/jbm/Desktop/20170517_jupiter_pics2/IMG_0790.CR2',\n",
       "              '/home/jbm/Desktop/20170517_jupiter_pics2/IMG_0754.CR2',\n",
       "              '/home/jbm/Desktop/20170517_jupiter_pics2/IMG_0784.CR2',\n",
       "              '/home/jbm/Desktop/20170517_jupiter_pics2/IMG_0789.CR2',\n",
       "              '/home/jbm/Desktop/20170517_jupiter_pics2/IMG_0760.CR2',\n",
       "              '/home/jbm/Desktop/20170517_jupiter_pics2/IMG_0782.CR2',\n",
       "              '/home/jbm/Desktop/20170517_jupiter_pics2/IMG_0759.CR2',\n",
       "              '/home/jbm/Desktop/20170517_jupiter_pics2/IMG_0798.CR2',\n",
       "              '/home/jbm/Desktop/20170517_jupiter_pics2/IMG_0780.CR2',\n",
       "              '/home/jbm/Desktop/20170517_jupiter_pics2/IMG_0761.CR2',\n",
       "              '/home/jbm/Desktop/20170517_jupiter_pics2/IMG_0758.CR2',\n",
       "              '/home/jbm/Desktop/20170517_jupiter_pics2/IMG_0797.CR2',\n",
       "              '/home/jbm/Desktop/20170517_jupiter_pics2/IMG_0795.CR2',\n",
       "              '/home/jbm/Desktop/20170517_jupiter_pics2/IMG_0794.CR2',\n",
       "              '/home/jbm/Desktop/20170517_jupiter_pics2/IMG_0774.CR2',\n",
       "              '/home/jbm/Desktop/20170517_jupiter_pics2/IMG_0766.CR2',\n",
       "              '/home/jbm/Desktop/20170517_jupiter_pics2/IMG_0764.CR2',\n",
       "              '/home/jbm/Desktop/20170517_jupiter_pics2/IMG_0796.CR2',\n",
       "              '/home/jbm/Desktop/20170517_jupiter_pics2/IMG_0756.CR2',\n",
       "              '/home/jbm/Desktop/20170517_jupiter_pics2/IMG_0793.CR2',\n",
       "              '/home/jbm/Desktop/20170517_jupiter_pics2/IMG_0755.CR2',\n",
       "              '/home/jbm/Desktop/20170517_jupiter_pics2/IMG_0763.CR2',\n",
       "              '/home/jbm/Desktop/20170517_jupiter_pics2/IMG_0799.CR2',\n",
       "              '/home/jbm/Desktop/20170517_jupiter_pics2/IMG_0767.CR2',\n",
       "              '/home/jbm/Desktop/20170517_jupiter_pics2/IMG_0768.CR2',\n",
       "              '/home/jbm/Desktop/20170517_jupiter_pics2/IMG_0757.CR2',\n",
       "              '/home/jbm/Desktop/20170517_jupiter_pics2/IMG_0785.CR2',\n",
       "              '/home/jbm/Desktop/20170517_jupiter_pics2/IMG_0765.CR2',\n",
       "              '/home/jbm/Desktop/20170517_jupiter_pics2/IMG_0781.CR2',\n",
       "              '/home/jbm/Desktop/20170517_jupiter_pics2/IMG_0769.CR2']})"
      ]
     },
     "execution_count": 57,
     "metadata": {},
     "output_type": "execute_result"
    }
   ],
   "source": [
    "bucket_dir(\"/home/jbm/Desktop/20170517_jupiter_pics2/\")"
   ]
  },
  {
   "cell_type": "code",
   "execution_count": null,
   "metadata": {
    "collapsed": true
   },
   "outputs": [],
   "source": []
  }
 ],
 "metadata": {
  "kernelspec": {
   "display_name": "Python 2",
   "language": "python",
   "name": "python2"
  },
  "language_info": {
   "codemirror_mode": {
    "name": "ipython",
    "version": 2
   },
   "file_extension": ".py",
   "mimetype": "text/x-python",
   "name": "python",
   "nbconvert_exporter": "python",
   "pygments_lexer": "ipython2",
   "version": "2.7.12"
  }
 },
 "nbformat": 4,
 "nbformat_minor": 2
}
